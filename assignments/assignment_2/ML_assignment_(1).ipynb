{
  "nbformat": 4,
  "nbformat_minor": 0,
  "metadata": {
    "colab": {
      "name": "ML_assignment (1).ipynb",
      "provenance": [],
      "collapsed_sections": []
    },
    "kernelspec": {
      "name": "python3",
      "display_name": "Python 3",
      "language": "python"
    },
    "language_info": {
      "name": "python",
      "version": "3.8.5"
    }
  },
  "cells": [
    {
      "cell_type": "markdown",
      "metadata": {
        "id": "UkJr6Lh9aIem"
      },
      "source": [
        "## Question 1 : Linear Regression\n",
        "To check whether you are able to build simple linear regression model from scratch or not."
      ]
    },
    {
      "cell_type": "code",
      "metadata": {
        "id": "wq1ZliSEuhTw"
      },
      "source": [
        "import numpy as np\n",
        "import matplotlib.pyplot as plt\n",
        " \n",
        "!wget --no-check-certificate https://github.com/adigup390/datasets/raw/main/X.npy -O X.npy\n",
        "!wget --no-check-certificate https://github.com/adigup390/datasets/raw/main/y.npy -O y.npy"
      ],
      "execution_count": null,
      "outputs": []
    },
    {
      "cell_type": "code",
      "metadata": {
        "id": "021fTYdwTkZm"
      },
      "source": [
        "def load_data_LR():\n",
        "  # Implement this function to read the dataset using the path declared in path_X and path_y\n",
        "  # should return the X and y data\n",
        "  # use np.load() to load the data google it you will get to know how to do it\n",
        "\n",
        "  path_X = \"X.npy\"\n",
        "  path_y = \"y.npy\"\n",
        "  X=np.load(path_X)\n",
        "  y=np.load(path_y)\n",
        "  # Write your code here ----------\n",
        "\n",
        "  # -------------------------------\n",
        "\n",
        "  return X, y"
      ],
      "execution_count": null,
      "outputs": []
    },
    {
      "cell_type": "code",
      "metadata": {
        "id": "Ngg3QUyTfBxC"
      },
      "source": [
        "def get_linear_model(X, y):\n",
        "  # This shoudl return a proper linear model without bias of type y = XW\n",
        "\n",
        "  # Write your code here ----------\n",
        "  \n",
        "  # -------------------------------\n",
        "  D = X.shape[1]\n",
        "  out_shape = 1\n",
        "  W = np.random.randn(D, out_shape)\n",
        "\n",
        "  return W"
      ],
      "execution_count": null,
      "outputs": []
    },
    {
      "cell_type": "code",
      "metadata": {
        "id": "c52FIGu-hlzM"
      },
      "source": [
        "def MSE(y, y_pred):\n",
        "  # should return the mean square error between the actual y and predicted y\n",
        "\n",
        "  # Write your code here ----------\n",
        "  \n",
        "  # -------------------------------\n",
        "  m = y.shape[0]\n",
        "  error = np.sum((y-y_pred)**2)/(2*m)\n",
        "  return error"
      ],
      "execution_count": null,
      "outputs": []
    },
    {
      "cell_type": "code",
      "metadata": {
        "id": "zrBrqA15hCdT"
      },
      "source": [
        "def train_by_algebra(X, y):\n",
        "  # should return the trained weight 'W' using the linear algebra method i.e. setting dE/dW = 0\n",
        "\n",
        "  # Write your code here ----------\n",
        "  \n",
        "  # -------------------------------\n",
        "  W = np.linalg.inv(X.T@X)@X.T@y\n",
        "\n",
        "  return W"
      ],
      "execution_count": null,
      "outputs": []
    },
    {
      "cell_type": "code",
      "metadata": {
        "id": "kJ_r_R1PixX2"
      },
      "source": [
        "def train_by_GD(X, y, epochs=5, lr=0.01):\n",
        "  # should return the trained weight 'W' using the gradient descent for number of iterations equals to epochs\n",
        "  # should also return error history int the cariable error_hist.shape = (epochs,); error_hist[i] = mean square error after epoch i-1\n",
        "  # should also print mean square error after each epoch/ iteration\n",
        "  # lr = \"learning rate\" i.e. eta\n",
        "  \n",
        "  # Write your code here ----------\n",
        "  \n",
        "  # -------------------------------\n",
        "  j=[]\n",
        "  m = y.shape[0]\n",
        "  theta = get_linear_model(X,y)\n",
        "  for i in range(epochs):\n",
        "    yp = X@theta\n",
        "    j.append(MSE(y,yp))\n",
        "    theta-=lr*(np.sum((yp-y)*X))/m\n",
        "\n",
        "  error_hist = j\n",
        "  W = theta\n",
        "  return W, error_hist"
      ],
      "execution_count": null,
      "outputs": []
    },
    {
      "cell_type": "markdown",
      "metadata": {
        "id": "uLTxFIOgkdjJ"
      },
      "source": [
        "### Now write a complete code using the function defined above to learn the model for following cases:"
      ]
    },
    {
      "cell_type": "markdown",
      "metadata": {
        "id": "eYW1AukM378a"
      },
      "source": [
        "##### Learn **W** using linear algebra method and prints mean square error between actual y and predicted y. Use `y_pred = XW`. Also plot y_pred and y on different plots."
      ]
    },
    {
      "cell_type": "code",
      "metadata": {
        "id": "AIRs0jB-kOZU"
      },
      "source": [
        "# Write your code here ----------\n",
        "  \n",
        "# -------------------------------\n",
        "\n",
        "X,y = load_data_LR()\n",
        "w = train_by_algebra(X,y)\n",
        "yp = X@w\n",
        "\n",
        "plt.scatter(X,y,label='y')\n",
        "plt.plot(X,yp,label='predicted_y', color='red')\n",
        "plt.legend(loc=0)\n",
        "plt.show()\n",
        "\n",
        "print(MSE(y,yp))"
      ],
      "execution_count": null,
      "outputs": []
    },
    {
      "cell_type": "markdown",
      "metadata": {
        "id": "6kP77_sK4CpT"
      },
      "source": [
        "##### Learn **W** using gradient descent method for following learning rates, `lr = [0.01, 0.001, 0.0001]` for **10 epochs**. Plot **MSE vs epochs** for each of them.  Also plot y_pred and y on different plots."
      ]
    },
    {
      "cell_type": "code",
      "metadata": {
        "id": "1bac27RT4G2H"
      },
      "source": [
        "# Write your code here ----------\n",
        "  \n",
        "# -------------------------------\n",
        "w1,j1 = train_by_GD(X,y,10,lr=0.01)\n",
        "w2,j2 = train_by_GD(X,y,10,0.001)\n",
        "w3,j3 = train_by_GD(X,y,10,0.0001)\n",
        "\n",
        "yp1 = X@w1\n",
        "yp2 = X@w2\n",
        "yp3 = X@w3\n",
        "\n",
        "ep = range(10)\n",
        "plt.plot(ep,j1,label = 'LR=0.01')\n",
        "plt.plot(ep,j2,label='LR=0.001')\n",
        "plt.plot(ep,j3,label='LR=0.0001')\n",
        "plt.title(\"Error vs Epochs\")\n",
        "plt.xlabel(\"Epochs\")\n",
        "plt.ylabel(\"Error\")\n",
        "plt.legend(loc=0)\n",
        "plt.show()\n",
        "\n",
        "plt.scatter(X,y,label='y')\n",
        "plt.plot(X,yp1,label='predicted_y for lr=0.01',)\n",
        "plt.plot(X,yp2,label='predicted_y for lr=0.001')\n",
        "plt.plot(X,yp3,label='predicted_y for lr=0.0001')\n",
        "plt.legend(loc=0)\n",
        "plt.show()"
      ],
      "execution_count": null,
      "outputs": []
    },
    {
      "cell_type": "code",
      "metadata": {
        "id": "mna7Uh0vJuNe"
      },
      "source": [],
      "execution_count": null,
      "outputs": []
    },
    {
      "cell_type": "markdown",
      "metadata": {
        "id": "4zJO-LIvn6sD"
      },
      "source": [
        "## Question 2: Image Classification in Tensorflow using Deep Learning\n",
        "To check whether you are able to build a given neural network model in tensorflow or not. First we will build a fully connected NN model second we will build a CNN model."
      ]
    },
    {
      "cell_type": "code",
      "metadata": {
        "id": "7mynGfqRn24b"
      },
      "source": [
        "import numpy as np\n",
        "import tensorflow as tf\n",
        "import matplotlib.pyplot as plt"
      ],
      "execution_count": null,
      "outputs": []
    },
    {
      "cell_type": "code",
      "metadata": {
        "id": "s8WKt-qY4agV"
      },
      "source": [
        "def plot_history(history):\n",
        "  # function to plot accuracy vs epoch\n",
        "\n",
        "  plt.plot(history.history['accuracy'], label='accuracy')\n",
        "  plt.plot(history.history['val_accuracy'], label = 'val_accuracy')\n",
        "  plt.xlabel('Epoch')\n",
        "  plt.ylabel('Accuracy')\n",
        "  plt.legend(loc='lower right')"
      ],
      "execution_count": null,
      "outputs": []
    },
    {
      "cell_type": "code",
      "metadata": {
        "id": "tCT9Kmhhn5I_"
      },
      "source": [
        "def load_data_cifar10_norm():\n",
        "  # should return the normalised cifar10 dataset by loading it from tensorflow\n",
        "  # link: https://www.tensorflow.org/api_docs/python/tf/keras/datasets/cifar10/\n",
        "\n",
        "  # Write your code here ----------\n",
        "\n",
        "  # -------------------------------\n",
        "  data = tf.keras.datasets.cifar10\n",
        "  (x_train,y_train),(x_test,y_test) = data.load_data()\n",
        "  return x_train, y_train, x_test, y_test"
      ],
      "execution_count": null,
      "outputs": []
    },
    {
      "cell_type": "code",
      "execution_count": null,
      "metadata": {},
      "outputs": [],
      "source": [
        "x_train, y_train, x_test, y_test = load_data_cifar10_norm()\n",
        "# plt.imshow(x_train[0])\n",
        "# plt.imshow(x_train[1000])\n",
        "print(x_train.shape)"
      ]
    },
    {
      "cell_type": "markdown",
      "metadata": {
        "id": "LDpHSTRPvS9t"
      },
      "source": [
        "### Define a fully connected neural network model with following attributes:\n",
        "\n",
        "*   Total number of **hidden layers = 4**, all with **relu** activation\n",
        "*   Number of neurons in **first hidden layer = 7200**\n",
        "*   Number of neurons in **second hidden layer = 2304**\n",
        "*   Number of neurons in **third hidden layer = 1024**\n",
        "*   Number of neurons in **fourth hidden layer = 64**\n"
      ]
    },
    {
      "cell_type": "code",
      "metadata": {
        "id": "VYYQzIWnqU3t"
      },
      "source": [
        "def build_fc_model(input_shape=(32, 32, 3), num_class=10):\n",
        "  # should return a sequential model defined based on the above attributes\n",
        "  # do not compile the model\n",
        "\n",
        "  # Write your code here ----------\n",
        "\n",
        "  # -------------------------------\n",
        "  model = tf.keras.Sequential([\n",
        "    tf.keras.layers.Flatten(input_shape=input_shape),\n",
        "    tf.keras.layers.Dense(7200,activation='relu'),\n",
        "    tf.keras.layers.Dense(2304,activation='relu'),\n",
        "    tf.keras.layers.Dense(1024,activation='relu'),\n",
        "    tf.keras.layers.Dense(64,activation='relu'),\n",
        "    tf.keras.layers.Dense(num_class,activation='softmax')\n",
        "  ])\n",
        "\n",
        "  return model"
      ],
      "execution_count": null,
      "outputs": []
    },
    {
      "cell_type": "markdown",
      "metadata": {
        "id": "pdcQ2yqz1RYH"
      },
      "source": [
        "### Define a CNN model with following attribute:\n",
        "\n",
        "*   Total number of **hidden layer = 4**\n",
        "*   After every convolutional layer there must be a MaxPoolingLayer of size (2, 2)\n",
        "*   Total number of convolutional layer = 3, all with **relu** activation.\n",
        "    *    Number of filters in **first convolutional layer = 32**\n",
        "    *    Number of filters in **second convolutional layer = 64**\n",
        "    *    Number of filters in **third convolutional layer = 64**\n",
        "*   After all convolutional layer flatten the output and use **dense layer of 64 neurons**\n",
        "\n"
      ]
    },
    {
      "cell_type": "code",
      "metadata": {
        "id": "T00AYU3D3L1j"
      },
      "source": [
        "def build_cnn_model(input_shape=(32, 32, 3), num_class=10):\n",
        "  # should return a sequential model defined based on the above attributes\n",
        "  # do not compile the model\n",
        "\n",
        "  # Write your code here ----------\n",
        "\n",
        "  # -------------------------------\n",
        "  model = tf.keras.Sequential()\n",
        "  layer1=tf.keras.layers.Conv2D(32,kernel_size=(3,3),activation='relu',input_shape=input_shape)\n",
        "  model.add(layer1)\n",
        "  pool_layer = tf.keras.layers.MaxPooling2D(2,2)\n",
        "  layer3_4 = tf.keras.layers.Conv2D(64,kernel_size=(3,3),activation='relu')\n",
        "  model.add(pool_layer)\n",
        "  model.add(layer3_4)\n",
        "  model.add(pool_layer)\n",
        "  model.add(layer3_4)\n",
        "  model.add(pool_layer)\n",
        "  model.add(tf.keras.layers.Flatten())\n",
        "  model.add(tf.keras.layers.Dense(64,activation='relu'))\n",
        "  model.add(tf.keras.layers.Dense(num_class, activation = 'softmax'))\n",
        "\n",
        "  return model"
      ],
      "execution_count": null,
      "outputs": []
    },
    {
      "cell_type": "markdown",
      "metadata": {
        "id": "7SXXUeRp4Urq"
      },
      "source": [
        "### Compile and train the fully connected neural network model using the above functions."
      ]
    },
    {
      "cell_type": "code",
      "metadata": {
        "id": "61_XiEUR3eV0"
      },
      "source": [
        "# Write your code here ----------\n",
        "\n",
        "# -------------------------------\n",
        "model = build_fc_model()\n",
        "model.compile(optimizer= 'rmsprop', loss='sparse_categorical_crossentropy',metrics=['accuracy'])\n",
        "history = model.fit(x_train, y_train, epochs=10, batch_size=512,\n",
        "                    validation_data=(x_test, y_test))\n",
        "\n",
        "plot_history(history)\n",
        "model.summary()"
      ],
      "execution_count": null,
      "outputs": []
    },
    {
      "cell_type": "markdown",
      "metadata": {
        "id": "Z_yHXGc47ENb"
      },
      "source": [
        "### Compile and train the CNN model using the above functions."
      ]
    },
    {
      "cell_type": "code",
      "metadata": {
        "id": "aM9rueu97Gnq"
      },
      "source": [
        "# Write your code here ----------\n",
        "\n",
        "# -------------------------------\n",
        "model2 = build_cnn_model(x_train[0].shape)\n",
        "model2.compile(optimizer = 'rmsprop',loss = 'categorical_crossentropy',metrics=['accuracy'])\n",
        "# print(x_train[0].shape)\n",
        "history = model2.fit(x_train, y_train, epochs=10, batch_size=512,\n",
        "                    validation_data=(x_test, y_test))\n",
        "\n",
        "plot_history(history)\n",
        "model2.summary()"
      ],
      "execution_count": null,
      "outputs": []
    },
    {
      "cell_type": "markdown",
      "metadata": {
        "id": "nKwrtPcy750Q"
      },
      "source": [
        "### What do you observe? Compare both the model by looking at their Accuracy vs Epoch plot and total numbers of trainable parameters."
      ]
    },
    {
      "cell_type": "code",
      "metadata": {
        "id": "Q2lFRCoL8N_b"
      },
      "source": [
        "print(\"Replace this with your observation\")\n",
        "# l=(2,3)\n",
        "# l.append(1)\n",
        "# print(l)"
      ],
      "execution_count": null,
      "outputs": []
    },
    {
      "cell_type": "code",
      "execution_count": null,
      "metadata": {},
      "outputs": [],
      "source": []
    }
  ]
}